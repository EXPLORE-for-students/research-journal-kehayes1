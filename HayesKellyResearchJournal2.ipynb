{
 "cells": [
  {
   "cell_type": "markdown",
   "metadata": {},
   "source": [
    "# Research Notebook\n",
    "## Kelly Hayes\n",
    "## Date: February 17, 2025"
   ]
  },
  {
   "cell_type": "markdown",
   "metadata": {},
   "source": [
    "# 1: Experience\n",
    "## Describe at least one research activity you worked on this week. \n",
    "\n",
    "In the past two weeks, we were instructed to look through two resources. The first of which was a presentation titled \"The splashback radius as a physical halo boundary\", Benedikt Diemer [1](https://www.kicc.cam.ac.uk/system/files/documents/presentation_kicc_diemer.pdf). In this presentation, we looked through the graphs provided, specifically, we wanted to look at the graph on page 13. This graph compares peak height with splashback radius for several observations and two different simulations (More+15 and Diemer+17). The second resource was a paper \"AMICO galaxy clusters in KiDS-DR3: Measuring the splashback radius from weak gravitational lensing\", Carlo Giocoli et al [2]. We specifically examined figure 9, which, like the Diemer example, showed splashback radius as a function of cluster peak height and fitted the More and Diemer simulations to the observations collected from various other authors. As a collective, students in my group worked to locate the resources found in these graphs. \n",
    "\n",
    "## Motivation:\n",
    "\n",
    "The final goal was to reproduce figure 9 in the KiDS paper. In general, we want to compare theoretical models of data with simulations and understand the fit and potential discrepancies."
   ]
  },
  {
   "cell_type": "markdown",
   "metadata": {},
   "source": [
    "# 2: What? (What happened?)\n",
    "## Describe what happened during your activities for the week.\n",
    "\n",
    "In examining the figures provided by the authors and the figures produced in the previous week, I gained a better understanding of the discrepancies between different simulation models and observational data used. While I was struggling to reproduce the observational results, I was able to somewhat reproduce the simulation data as follows:"
   ]
  },
  {
   "cell_type": "code",
   "execution_count": 5,
   "metadata": {},
   "outputs": [
    {
     "data": {
      "image/png": "[encoded data removed]",
      "text/plain": [
       "<Figure size 432x288 with 1 Axes>"
      ]
     },
     "metadata": {
      "needs_background": "light"
     },
     "output_type": "display_data"
    }
   ],
   "source": [
    "from __future__ import print_function \n",
    "import numpy as np\n",
    "import matplotlib.pyplot as plt\n",
    "%matplotlib inline\n",
    "from colossus.cosmology import cosmology\n",
    "cosmology.setCosmology('planck18');\n",
    "from colossus.halo import splashback\n",
    "from colossus.lss import peaks\n",
    "\n",
    "z = 0.0\n",
    "M200m = 1E12\n",
    "nu200m = peaks.peakHeight(M200m, z)\n",
    "Gamma = np.arange(0.0, 5.1, 0.1)\n",
    "\n",
    "nu200m = np.arange(1, 5, 0.01)\n",
    "\n",
    "plt.figure()\n",
    "plt.xlabel('Peak height')\n",
    "plt.ylabel('Rsp/R200m')\n",
    "plt.xlim(1.5, 4.5)  # Set x-axis limits\n",
    "plt.ylim(0, 2.25)   # Set y-axis limits\n",
    "\n",
    "for model_name in splashback.models:\n",
    "    if model_name == \"more15\" or model_name == \"diemer20\":\n",
    "        RspR200m, mask = splashback.splashbackModel('RspR200m', nu200m = nu200m, z = z, \n",
    "                                    model = model_name, rspdef = 'sp-apr-p75', statistic = 'median')\n",
    "        plt.plot(nu200m[mask], RspR200m, label = model_name.replace('_', '\\_'))\n",
    "plt.legend();\n"
   ]
  },
  {
   "cell_type": "markdown",
   "metadata": {},
   "source": [
    "Although this graph is similar to the KiDS figure, it is clear I still have work to do to fix the \"crossover\" of data at around x = 4.3, and modify the scaling to match the figure better, in addition to adding the observational data."
   ]
  },
  {
   "cell_type": "markdown",
   "metadata": {},
   "source": [
    "# 3: So what? (What does it mean?)\n",
    "## Describe your results\n",
    "\n",
    "This means that we still have work to do to explain the discrepancy between theoretical models by More et al. and Diemer and the observational data collected by other authors. It is also important to mention that we have not yet made the jump of generalizing this data so we can use it for cold and fuzzy dark matter splashback radii, which is our goal."
   ]
  },
  {
   "cell_type": "markdown",
   "metadata": {},
   "source": [
    "# 4. Now what? (What's next?)\n",
    "## Plan for the next week\n",
    "\n",
    "My plan is to figure out how to add the observational data to my plot given the data provided by my peers. In addition, I plan to attempt to explain the potential discrepancies between the simulations and the observational data. To make the jump towards other models of dark matter, such as fuzzy dark matter and self interacting dark matter, I will use COLOSSUS and attempt to generalize the semi-analytical model by Adhikari et al. provided in the team google document. I will then compare my predictions with the aforementioned data."
   ]
  },
  {
   "cell_type": "markdown",
   "metadata": {},
   "source": [
    "# 5. Bibliography\n",
    "\n",
    "[1] B. Diemer, The splashback radius as a physical halo boundary, https://www.kicc.cam.ac.uk/system/files/documents/presentation_kicc_diemer.pdf (accessed Feb. 17, 2025). \n",
    "\n",
    "[2] C. Giocoli et al., “Amico galaxy clusters in kids-DR3: Measuring the splashback radius from weak gravitational lensing,” Astronomy &amp; Astrophysics, vol. 687, Jun. 2024. doi:10.1051/0004-6361/202449561 "
   ]
  },
  {
   "cell_type": "code",
   "execution_count": null,
   "metadata": {},
   "outputs": [],
   "source": []
  }
 ],
 "metadata": {
  "kernelspec": {
   "display_name": "Python 3 (ipykernel)",
   "language": "python",
   "name": "python3"
  },
  "language_info": {
   "codemirror_mode": {
    "name": "ipython",
    "version": 3
   },
   "file_extension": ".py",
   "mimetype": "text/x-python",
   "name": "python",
   "nbconvert_exporter": "python",
   "pygments_lexer": "ipython3",
   "version": "3.9.12"
  }
 },
 "nbformat": 4,
 "nbformat_minor": 4
}
